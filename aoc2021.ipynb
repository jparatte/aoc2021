{
 "cells": [
  {
   "cell_type": "markdown",
   "metadata": {},
   "source": [
    "# AOC 2021\n",
    "\n",
    "Welcome to the Advent of Code 2021 !"
   ]
  },
  {
   "cell_type": "markdown",
   "metadata": {},
   "source": [
    "## Basic configuration\n",
    "\n"
   ]
  },
  {
   "cell_type": "code",
   "execution_count": null,
   "metadata": {},
   "outputs": [],
   "source": [
    "!pip install aocd"
   ]
  },
  {
   "cell_type": "code",
   "execution_count": null,
   "metadata": {},
   "outputs": [],
   "source": [
    "import os\n",
    "\n",
    "os.environ['AOC_SESSION'] = open('session.txt').read().strip()"
   ]
  },
  {
   "cell_type": "code",
   "execution_count": null,
   "metadata": {},
   "outputs": [],
   "source": [
    "from aocd import submit\n",
    "from aocd.models import Puzzle"
   ]
  },
  {
   "cell_type": "markdown",
   "metadata": {},
   "source": [
    "## Day 24\n",
    "https://adventofcode.com/2021/day/24\n",
    "### Part 1"
   ]
  },
  {
   "cell_type": "markdown",
   "metadata": {},
   "source": [
    "### Part 2"
   ]
  },
  {
   "cell_type": "markdown",
   "metadata": {},
   "source": [
    "## Day 23\n",
    "https://adventofcode.com/2021/day/23\n",
    "### Part 1"
   ]
  },
  {
   "cell_type": "markdown",
   "metadata": {},
   "source": [
    "### Part 2"
   ]
  },
  {
   "cell_type": "markdown",
   "metadata": {},
   "source": [
    "## Day 22\n",
    "https://adventofcode.com/2021/day/22\n",
    "### Part 1"
   ]
  },
  {
   "cell_type": "markdown",
   "metadata": {},
   "source": [
    "### Part 2"
   ]
  },
  {
   "cell_type": "markdown",
   "metadata": {},
   "source": [
    "## Day 21\n",
    "https://adventofcode.com/2021/day/21\n",
    "### Part 1"
   ]
  },
  {
   "cell_type": "markdown",
   "metadata": {},
   "source": [
    "### Part 2"
   ]
  },
  {
   "cell_type": "markdown",
   "metadata": {},
   "source": [
    "## Day 20\n",
    "https://adventofcode.com/2021/day/20\n",
    "### Part 1"
   ]
  },
  {
   "cell_type": "markdown",
   "metadata": {},
   "source": [
    "### Part 2"
   ]
  },
  {
   "cell_type": "markdown",
   "metadata": {},
   "source": [
    "## Day 19\n",
    "https://adventofcode.com/2021/day/19\n",
    "### Part 1"
   ]
  },
  {
   "cell_type": "markdown",
   "metadata": {},
   "source": [
    "### Part 2"
   ]
  },
  {
   "cell_type": "markdown",
   "metadata": {},
   "source": [
    "## Day 18\n",
    "https://adventofcode.com/2021/day/18\n",
    "### Part 1"
   ]
  },
  {
   "cell_type": "markdown",
   "metadata": {},
   "source": [
    "### Part 2"
   ]
  },
  {
   "cell_type": "markdown",
   "metadata": {},
   "source": [
    "## Day 17\n",
    "https://adventofcode.com/2021/day/17\n",
    "### Part 1"
   ]
  },
  {
   "cell_type": "markdown",
   "metadata": {},
   "source": [
    "### Part 2"
   ]
  },
  {
   "cell_type": "markdown",
   "metadata": {},
   "source": [
    "## Day 16\n",
    "https://adventofcode.com/2021/day/16\n",
    "### Part 1"
   ]
  },
  {
   "cell_type": "markdown",
   "metadata": {},
   "source": [
    "### Part 2"
   ]
  },
  {
   "cell_type": "markdown",
   "metadata": {},
   "source": [
    "## Day 15\n",
    "https://adventofcode.com/2021/day/15"
   ]
  },
  {
   "cell_type": "markdown",
   "metadata": {},
   "source": [
    "### Part 1"
   ]
  },
  {
   "cell_type": "code",
   "execution_count": null,
   "metadata": {},
   "outputs": [],
   "source": [
    "puzzle = Puzzle(2021, 15)"
   ]
  },
  {
   "cell_type": "code",
   "execution_count": null,
   "metadata": {},
   "outputs": [],
   "source": [
    "import numpy as np\n",
    "\n",
    "data = np.array([[int(c) for c in line] for line in puzzle.input_data.split('\\n')]).astype('uint8')"
   ]
  },
  {
   "cell_type": "code",
   "execution_count": null,
   "metadata": {},
   "outputs": [],
   "source": [
    "from collections import deque\n",
    "\n",
    "distances = np.zeros(data.shape)\n",
    "distances[:,:] = 10**20\n",
    "distances[0, 0] = 0\n",
    "visited = set()\n",
    "to_visit = {(0, 0)}\n",
    "lattice = set((x, y) for y in range(data.shape[0]) for x in range(data.shape[1]))"
   ]
  },
  {
   "cell_type": "code",
   "execution_count": null,
   "metadata": {},
   "outputs": [],
   "source": [
    "def evaluate(node):\n",
    "    x, y = node\n",
    "    for dx, dy in [(-1, 0), (0, 1), (1, 0), (0, -1)]:\n",
    "        neighbor = x+dx, y+dy\n",
    "        if neighbor in lattice:\n",
    "            distances[neighbor] = min(distances[node] + data[neighbor], distances[neighbor])\n",
    "            if neighbor not in visited:\n",
    "                to_visit.add(neighbor)\n",
    "    visited.add(node)\n"
   ]
  },
  {
   "cell_type": "code",
   "execution_count": null,
   "metadata": {},
   "outputs": [],
   "source": [
    "while to_visit:\n",
    "    node = min([(x, y, distances[x, y]) for x, y in to_visit], key=lambda t: t[2])[:2]\n",
    "    evaluate(node)\n",
    "    to_visit = to_visit - visited"
   ]
  },
  {
   "cell_type": "code",
   "execution_count": null,
   "metadata": {},
   "outputs": [],
   "source": [
    "answer_a = int(distances[-1,-1])"
   ]
  },
  {
   "cell_type": "code",
   "execution_count": null,
   "metadata": {},
   "outputs": [],
   "source": [
    "puzzle.answer_a = answer_a"
   ]
  },
  {
   "cell_type": "markdown",
   "metadata": {},
   "source": [
    "### Part 2"
   ]
  },
  {
   "cell_type": "code",
   "execution_count": null,
   "metadata": {},
   "outputs": [],
   "source": [
    "cols = [data]\n",
    "\n",
    "for i in range(4):\n",
    "    cols.append((cols[-1] % 9) + 1)\n",
    "\n",
    "lines = [np.concatenate(cols, axis=1)]\n",
    "\n",
    "for i in range(4):\n",
    "    lines.append((lines[-1] % 9) + 1)\n",
    "data = np.concatenate(lines)"
   ]
  },
  {
   "cell_type": "code",
   "execution_count": null,
   "metadata": {},
   "outputs": [],
   "source": [
    "distances = np.zeros(data.shape)\n",
    "distances[:,:] = 10**20\n",
    "distances[0, 0] = 0\n",
    "visited = set()\n",
    "to_visit = {(0, 0)}\n",
    "lattice = set((x, y) for y in range(data.shape[0]) for x in range(data.shape[1]))"
   ]
  },
  {
   "cell_type": "code",
   "execution_count": null,
   "metadata": {},
   "outputs": [],
   "source": [
    "while to_visit:\n",
    "    node = min([(x, y, distances[x, y]) for x, y in to_visit], key=lambda t: t[2])[:2]\n",
    "    evaluate(node)\n",
    "    to_visit = to_visit - visited"
   ]
  },
  {
   "cell_type": "code",
   "execution_count": null,
   "metadata": {},
   "outputs": [],
   "source": [
    "answer_b = int(distances[-1, -1])"
   ]
  },
  {
   "cell_type": "code",
   "execution_count": null,
   "metadata": {},
   "outputs": [],
   "source": [
    "puzzle.answer_b = answer_b"
   ]
  },
  {
   "cell_type": "markdown",
   "metadata": {},
   "source": [
    "## Day 14\n",
    "https://adventofcode.com/2021/day/14\n",
    "### Part 1"
   ]
  },
  {
   "cell_type": "code",
   "execution_count": null,
   "metadata": {},
   "outputs": [],
   "source": [
    "puzzle = Puzzle(2021, 14)"
   ]
  },
  {
   "cell_type": "code",
   "execution_count": null,
   "metadata": {},
   "outputs": [],
   "source": [
    "base, reactions = puzzle.input_data.split('\\n\\n')\n",
    "reactions = [reac.split(' -> ') for reac in reactions.split('\\n')]\n",
    "reactions = {r[0]: r[1] for r in reactions}"
   ]
  },
  {
   "cell_type": "code",
   "execution_count": null,
   "metadata": {},
   "outputs": [],
   "source": [
    "def insert(base, reactions):\n",
    "    insertions = [reactions[base[i:i+2]] for i in range(len(base) - 1)]\n",
    "    result = \"\".join(c1+c2 for c1, c2 in zip(base[:-1], insertions))\n",
    "    result += base[-1]\n",
    "    return result"
   ]
  },
  {
   "cell_type": "code",
   "execution_count": null,
   "metadata": {},
   "outputs": [],
   "source": [
    "polymer = f\"{base}\"\n",
    "for i in range(10):\n",
    "    polymer = insert(polymer, reactions)"
   ]
  },
  {
   "cell_type": "code",
   "execution_count": null,
   "metadata": {},
   "outputs": [],
   "source": [
    "from collections import Counter\n",
    "\n",
    "count = Counter(polymer)\n",
    "answer_a = count.most_common()[0][1] - count.most_common()[-1][1] "
   ]
  },
  {
   "cell_type": "code",
   "execution_count": null,
   "metadata": {},
   "outputs": [],
   "source": [
    "puzzle.answer_a = answer_a"
   ]
  },
  {
   "cell_type": "markdown",
   "metadata": {},
   "source": [
    "### Part 2"
   ]
  },
  {
   "cell_type": "code",
   "execution_count": null,
   "metadata": {},
   "outputs": [],
   "source": [
    "def react(pairs, reactions):\n",
    "    new_count = Counter()\n",
    "    for pair, count in pairs.items():\n",
    "        insert = reactions[pair]\n",
    "        p1, p2 = pair[0]+insert, insert+pair[1]\n",
    "        new_count[p1] += count\n",
    "        new_count[p2] += count\n",
    "    return new_count"
   ]
  },
  {
   "cell_type": "code",
   "execution_count": null,
   "metadata": {},
   "outputs": [],
   "source": [
    "pairs = Counter(base[i:i+2] for i in range(len(base) - 1))\n",
    "\n",
    "for i in range(40):\n",
    "    pairs = react(pairs, reactions)"
   ]
  },
  {
   "cell_type": "code",
   "execution_count": null,
   "metadata": {},
   "outputs": [],
   "source": [
    "def count_chars(pairs):\n",
    "    counter = Counter()\n",
    "    for pair, count in pairs.items():\n",
    "        counter[pair[0]] += count\n",
    "        counter[pair[1]] += count\n",
    "    return counter"
   ]
  },
  {
   "cell_type": "code",
   "execution_count": null,
   "metadata": {},
   "outputs": [],
   "source": [
    "count = count_chars(pairs)"
   ]
  },
  {
   "cell_type": "code",
   "execution_count": null,
   "metadata": {},
   "outputs": [],
   "source": [
    "answer_b = ((count.most_common()[0][1] - count.most_common()[-1][1])) // 2 + 1"
   ]
  },
  {
   "cell_type": "code",
   "execution_count": null,
   "metadata": {},
   "outputs": [],
   "source": [
    "puzzle.answer_b = answer_b"
   ]
  },
  {
   "cell_type": "markdown",
   "metadata": {},
   "source": [
    "## Day 13\n",
    "https://adventofcode.com/2021/day/13\n",
    "### Part 1"
   ]
  },
  {
   "cell_type": "code",
   "execution_count": null,
   "metadata": {},
   "outputs": [],
   "source": [
    "puzzle = Puzzle(2021, 13)"
   ]
  },
  {
   "cell_type": "code",
   "execution_count": null,
   "metadata": {},
   "outputs": [],
   "source": [
    "coords, folds = puzzle.input_data.split('\\n\\n')"
   ]
  },
  {
   "cell_type": "code",
   "execution_count": null,
   "metadata": {},
   "outputs": [],
   "source": [
    "xc = [int(c.split(',')[0]) for c in coords.split('\\n')]\n",
    "yc = [int(c.split(',')[1]) for c in coords.split('\\n')]"
   ]
  },
  {
   "cell_type": "code",
   "execution_count": null,
   "metadata": {},
   "outputs": [],
   "source": [
    "folding = []\n",
    "for fold in folds.split('\\n'):\n",
    "    ax, coord = fold.split('=')\n",
    "    axis = 0 if ax[-1] == 'x' else 1\n",
    "    folding.append((axis, int(coord)))"
   ]
  },
  {
   "cell_type": "code",
   "execution_count": null,
   "metadata": {},
   "outputs": [],
   "source": [
    "import numpy as np\n",
    "\n",
    "width, height = max(xc)+1, max(yc)+1\n",
    "paper = np.zeros((width, height))\n",
    "paper[xc, yc] = 1"
   ]
  },
  {
   "cell_type": "code",
   "execution_count": null,
   "metadata": {},
   "outputs": [],
   "source": [
    "def fold(paper, folding):\n",
    "    axis, coord = folding\n",
    "    if axis == 0:\n",
    "        first, second = paper[:coord, :], paper[coord+1:, :]\n",
    "    else:\n",
    "        first, second = paper[:, :coord], paper[:, coord+1:]\n",
    "    \n",
    "    if first.shape != second.shape:\n",
    "        sx, sy = second.shape\n",
    "        padded = np.zeros(first.shape)\n",
    "        padded[:sx, :sy] = second\n",
    "        second = padded\n",
    "    return np.maximum(first, np.flip(second, axis))\n",
    "\n",
    "answer_a = int(np.sum(fold(paper, folding[0])))"
   ]
  },
  {
   "cell_type": "code",
   "execution_count": null,
   "metadata": {},
   "outputs": [],
   "source": [
    "puzzle.answer_a = answer_a"
   ]
  },
  {
   "cell_type": "markdown",
   "metadata": {},
   "source": [
    "### Part 2"
   ]
  },
  {
   "cell_type": "code",
   "execution_count": null,
   "metadata": {},
   "outputs": [],
   "source": [
    "folded = paper.copy()\n",
    "for instruction in folding:\n",
    "    folded = fold(folded, instruction)"
   ]
  },
  {
   "cell_type": "code",
   "execution_count": null,
   "metadata": {},
   "outputs": [],
   "source": [
    "from matplotlib import pyplot as plt\n",
    "\n",
    "plt.imshow(folded.T)"
   ]
  },
  {
   "cell_type": "markdown",
   "metadata": {},
   "source": [
    "## Day 12\n",
    "https://adventofcode.com/2021/day/12\n",
    "### Part 1"
   ]
  },
  {
   "cell_type": "code",
   "execution_count": null,
   "metadata": {},
   "outputs": [],
   "source": [
    "puzzle = Puzzle(2021, 12)"
   ]
  },
  {
   "cell_type": "code",
   "execution_count": null,
   "metadata": {},
   "outputs": [],
   "source": [
    "edges = [edge.split('-') for edge in puzzle.input_data.split('\\n')]"
   ]
  },
  {
   "cell_type": "code",
   "execution_count": null,
   "metadata": {},
   "outputs": [],
   "source": [
    "from collections import defaultdict\n",
    "\n",
    "graph = defaultdict(set)\n",
    "for a, b in edges:\n",
    "    graph[a].add(b)\n",
    "    graph[b].add(a)\n",
    "\n",
    "big_caves = set([node for node in graph.keys()if str.lower(node) != node])\n",
    "nodes = set(graph.keys())"
   ]
  },
  {
   "cell_type": "code",
   "execution_count": null,
   "metadata": {},
   "outputs": [],
   "source": [
    "start = 'start'\n",
    "end = 'end'\n",
    "\n",
    "def recurse(path):\n",
    "    \n",
    "    current = path[-1]\n",
    "    \n",
    "    all_paths = []\n",
    "    \n",
    "    for neighbor in graph[current]:\n",
    "        if neighbor not in path or neighbor in big_caves:\n",
    "            new_path = path.copy()\n",
    "            new_path.append(neighbor)\n",
    "            if neighbor == end:\n",
    "                all_paths.append(new_path)\n",
    "            else:\n",
    "                all_paths.extend(recurse(new_path))\n",
    "    return all_paths\n",
    "    \n",
    "all_paths = recurse([start])\n",
    "answer_a = len(all_paths)"
   ]
  },
  {
   "cell_type": "code",
   "execution_count": null,
   "metadata": {},
   "outputs": [],
   "source": [
    "puzzle.answer_a = answer_a"
   ]
  },
  {
   "cell_type": "markdown",
   "metadata": {},
   "source": [
    "### Part2"
   ]
  },
  {
   "cell_type": "code",
   "execution_count": null,
   "metadata": {},
   "outputs": [],
   "source": [
    "small_caves = nodes - big_caves - {start, end}"
   ]
  },
  {
   "cell_type": "code",
   "execution_count": null,
   "metadata": {},
   "outputs": [],
   "source": [
    "from collections import Counter\n",
    "\n",
    "start = 'start'\n",
    "end = 'end'\n",
    "\n",
    "def recurse(path):\n",
    "    \n",
    "    current = path[-1]\n",
    "    \n",
    "    all_paths = []\n",
    "    \n",
    "    for neighbor in graph[current]:\n",
    "        count = Counter(path)\n",
    "        if (neighbor not in path) or (neighbor in big_caves) or (neighbor in small_caves and max(count[node] for node in small_caves)== 1):\n",
    "            new_path = path.copy()\n",
    "            new_path.append(neighbor)\n",
    "            if neighbor == end:\n",
    "                all_paths.append(new_path)\n",
    "            else:\n",
    "                all_paths.extend(recurse(new_path))\n",
    "    return all_paths\n",
    "    \n",
    "all_paths = recurse([start])\n",
    "answer_b = len(all_paths)"
   ]
  },
  {
   "cell_type": "code",
   "execution_count": null,
   "metadata": {},
   "outputs": [],
   "source": [
    "puzzle.answer_b = answer_b"
   ]
  },
  {
   "cell_type": "markdown",
   "metadata": {},
   "source": [
    "## Day 11\n",
    "https://adventofcode.com/2021/day/11\n",
    "### Part 1"
   ]
  },
  {
   "cell_type": "code",
   "execution_count": null,
   "metadata": {},
   "outputs": [],
   "source": [
    "puzzle = Puzzle(2021, 11)"
   ]
  },
  {
   "cell_type": "code",
   "execution_count": null,
   "metadata": {},
   "outputs": [],
   "source": [
    "octo = np.array([[int(c) for c in line] for line in puzzle.input_data.split('\\n')]).astype('uint8')"
   ]
  },
  {
   "cell_type": "code",
   "execution_count": null,
   "metadata": {},
   "outputs": [],
   "source": [
    "from itertools import product\n",
    "\n",
    "import numpy as np\n",
    "\n",
    "class Nest:\n",
    "    def __init__(self, octo):\n",
    "        self.width, self.height = octo.shape\n",
    "        self.area = octo.copy()\n",
    "        \n",
    "    def step(self):\n",
    "        self.area += 1\n",
    "\n",
    "        exploded = set()\n",
    "\n",
    "        while True:\n",
    "            x, y = np.where(self.area >= 10)\n",
    "\n",
    "            if x.size == 0:\n",
    "                break\n",
    "\n",
    "            self.area[x, y] = 0\n",
    "\n",
    "            exploded |= set(zip(x, y))\n",
    "\n",
    "            expanded = [(x+dx,y+dy) for dx, dy in product([-1, 0, 1], repeat=2)]\n",
    "            nx, ny = np.concatenate([n[0] for n in expanded]), np.concatenate([n[1] for n in expanded])\n",
    "            valid = (nx >= 0) & (nx < self.width) & (ny >= 0) & (ny < self.height)\n",
    "\n",
    "            for pos, inc in Counter(zip(nx[valid], ny[valid])).items():\n",
    "                if pos not in exploded:\n",
    "                    self.area[pos] += inc\n",
    "\n",
    "        return len(exploded)\n",
    "    \n",
    "    def __repr__(self):\n",
    "        return \"\\n\".join([\"\".join([str(self.area[y, x]) for x in range(self.width)]) for y in range(self.height)])\n",
    "\n"
   ]
  },
  {
   "cell_type": "code",
   "execution_count": null,
   "metadata": {},
   "outputs": [],
   "source": [
    "nest = Nest(octo)\n",
    "answer_a = sum(nest.step() for i in range(100))"
   ]
  },
  {
   "cell_type": "code",
   "execution_count": null,
   "metadata": {},
   "outputs": [],
   "source": [
    "puzzle.answer_a = answer_a"
   ]
  },
  {
   "cell_type": "markdown",
   "metadata": {},
   "source": [
    "### Part 2"
   ]
  },
  {
   "cell_type": "code",
   "execution_count": null,
   "metadata": {},
   "outputs": [],
   "source": [
    "nest = Nest(octo)\n",
    "\n",
    "count = 0\n",
    "while True:\n",
    "    n_flashed = nest.step()\n",
    "    count += 1\n",
    "    if n_flashed == nest.area.size:\n",
    "        break\n",
    "answer_b = count"
   ]
  },
  {
   "cell_type": "code",
   "execution_count": null,
   "metadata": {},
   "outputs": [],
   "source": [
    "puzzle.answer_b = answer_b"
   ]
  },
  {
   "cell_type": "markdown",
   "metadata": {},
   "source": [
    "## For fun"
   ]
  },
  {
   "cell_type": "code",
   "execution_count": null,
   "metadata": {},
   "outputs": [],
   "source": [
    "import cv2 as cv\n",
    "import seaborn as sns\n",
    "import numpy as np\n",
    "\n",
    "def draw(frame):\n",
    "    ax = sns.heatmap(frame, vmin=0, vmax=10, cbar=False)\n",
    "    fig = ax.figure\n",
    "    \n",
    "    fig.canvas.draw()\n",
    "\n",
    "    img = np.fromstring(fig.canvas.tostring_rgb(), dtype=np.uint8, sep='')\n",
    "    img = img.reshape(fig.canvas.get_width_height()[::-1] + (3, ))\n",
    "    img = cv.cvtColor(img, cv.COLOR_RGB2BGR)\n",
    "    return img\n",
    "\n",
    "class FunNest:\n",
    "    def __init__(self, octo):\n",
    "        self.width, self.height = octo.shape\n",
    "        self.area = octo.copy()\n",
    "        \n",
    "    def step(self):\n",
    "        self.area += 1\n",
    "\n",
    "        exploded = set()\n",
    "        \n",
    "        frames = [self.area.copy()]\n",
    "\n",
    "        while True:\n",
    "            x, y = np.where(self.area >= 10)\n",
    "\n",
    "            if x.size == 0:\n",
    "                break\n",
    "\n",
    "            self.area[x, y] = 0\n",
    "\n",
    "            exploded |= set(zip(x, y))\n",
    "\n",
    "            expanded = [(x+dx,y+dy) for dx, dy in product([-1, 0, 1], repeat=2)]\n",
    "            nx, ny = np.concatenate([n[0] for n in expanded]), np.concatenate([n[1] for n in expanded])\n",
    "            valid = (nx >= 0) & (nx < self.width) & (ny >= 0) & (ny < self.height)\n",
    "\n",
    "            for pos, inc in Counter(zip(nx[valid], ny[valid])).items():\n",
    "                if pos not in exploded:\n",
    "                    self.area[pos] += inc\n",
    "                    \n",
    "            frames.append(self.area.copy())\n",
    "\n",
    "        return frames"
   ]
  },
  {
   "cell_type": "code",
   "execution_count": null,
   "metadata": {},
   "outputs": [],
   "source": [
    "max_steps = answer_b + 60\n",
    "FPS = 25\n",
    "\n",
    "fourcc = cv2.VideoWriter_fourcc(*'mp4v')\n",
    "writer = cv.VideoWriter('media/day11.mp4', fourcc, FPS, (432, 288))"
   ]
  },
  {
   "cell_type": "code",
   "execution_count": null,
   "metadata": {},
   "outputs": [],
   "source": [
    "nest = FunNest(octo)\n",
    "\n",
    "all_frames = []\n",
    "for i in range(max_steps):\n",
    "    all_frames.append(nest.step())\n",
    "\n",
    "for curr_frames, next_frames in zip(all_frames[:-1], all_frames[1:]):\n",
    "\n",
    "    curr, next_ = curr_frames[0], next_frames[0]\n",
    "    \n",
    "    if len(curr) == 1:\n",
    "        interp_frames = np.linspace(curr, next_, FPS)\n",
    "\n",
    "        for frame in interp_frames:\n",
    "            img = draw(frame)\n",
    "            writer.write(img)\n",
    "    else:\n",
    "        for frame in curr_frames:\n",
    "            img = draw(frame)\n",
    "            writer.write(img)\n",
    "    \n",
    "\n",
    "writer.release()       "
   ]
  },
  {
   "cell_type": "markdown",
   "metadata": {},
   "source": [
    "## Day 10\n",
    "https://adventofcode.com/2021/day/10\n",
    "### Part 1"
   ]
  },
  {
   "cell_type": "code",
   "execution_count": null,
   "metadata": {},
   "outputs": [],
   "source": [
    "puzzle = Puzzle(2021, 10)"
   ]
  },
  {
   "cell_type": "code",
   "execution_count": null,
   "metadata": {},
   "outputs": [],
   "source": [
    "lines = puzzle.input_data.split('\\n')"
   ]
  },
  {
   "cell_type": "code",
   "execution_count": null,
   "metadata": {},
   "outputs": [],
   "source": [
    "from collections import deque\n",
    "\n",
    "line = lines[1]\n",
    "\n",
    "mapping = {\n",
    "    '[': ']',\n",
    "    '{': '}',\n",
    "    '(': ')',\n",
    "    '<': '>',\n",
    "}\n",
    "\n",
    "corrupted_scoring = {\n",
    "    ')': 3,\n",
    "    ']': 57,\n",
    "    '}': 1197,\n",
    "    '>': 25137,\n",
    "}\n",
    "\n",
    "def check_line(line):\n",
    "    stack = deque()\n",
    "    for char in line:\n",
    "        if char in mapping:\n",
    "            stack.append(char)\n",
    "        else:\n",
    "            top = stack.pop()\n",
    "            if mapping[top] != char:\n",
    "                return corrupted_scoring[char]\n",
    "    return 0\n",
    "\n",
    "answer_a = sum(check_line(line) for line in lines)"
   ]
  },
  {
   "cell_type": "code",
   "execution_count": null,
   "metadata": {},
   "outputs": [],
   "source": [
    "puzzle.answer_a = answer_a"
   ]
  },
  {
   "cell_type": "markdown",
   "metadata": {},
   "source": [
    "### Part 2"
   ]
  },
  {
   "cell_type": "code",
   "execution_count": null,
   "metadata": {},
   "outputs": [],
   "source": [
    "incomplete_lines = [line for line in lines if check_line(line) == 0]"
   ]
  },
  {
   "cell_type": "code",
   "execution_count": null,
   "metadata": {},
   "outputs": [],
   "source": [
    "repair_scoring = {\n",
    "    ')': 1,\n",
    "    ']': 2,\n",
    "    '}': 3,\n",
    "    '>': 4,\n",
    "}\n",
    "\n",
    "def repair_line(line):\n",
    "    stack = deque()\n",
    "    for char in line:\n",
    "        if char in mapping:\n",
    "            stack.append(char)\n",
    "        else:\n",
    "            top = stack.pop()\n",
    "    \n",
    "    score = 0\n",
    "    while stack:\n",
    "        top = stack.pop()\n",
    "        score *= 5\n",
    "        score += repair_scoring[mapping[top]]\n",
    "    return score\n",
    "\n",
    "scores = sorted(repair_line(line) for line in incomplete_lines)\n",
    "answer_b = scores[len(scores) // 2]"
   ]
  },
  {
   "cell_type": "code",
   "execution_count": null,
   "metadata": {},
   "outputs": [],
   "source": [
    "puzzle.answer_b = answer_b"
   ]
  },
  {
   "cell_type": "markdown",
   "metadata": {},
   "source": [
    "## Day 9\n",
    "https://adventofcode.com/2021/day/9\n",
    "### Part 1"
   ]
  },
  {
   "cell_type": "code",
   "execution_count": null,
   "metadata": {},
   "outputs": [],
   "source": [
    "puzzle = Puzzle(2021, 9)"
   ]
  },
  {
   "cell_type": "markdown",
   "metadata": {},
   "source": [
    "!pip install opencv-python matplotlib"
   ]
  },
  {
   "cell_type": "code",
   "execution_count": null,
   "metadata": {},
   "outputs": [],
   "source": [
    "import cv2 as cv\n",
    "\n",
    "depth = np.array([[int(c) for c in line] for line in puzzle.input_data.split('\\n')]).astype('uint8')"
   ]
  },
  {
   "cell_type": "code",
   "execution_count": null,
   "metadata": {},
   "outputs": [],
   "source": [
    "from matplotlib import pyplot as plt\n",
    "\n",
    "plt.rcParams[\"figure.figsize\"] = (10,10)\n",
    "\n",
    "plt.imshow(depth)"
   ]
  },
  {
   "cell_type": "code",
   "execution_count": null,
   "metadata": {},
   "outputs": [],
   "source": [
    "erosion = cv.erode(depth, cv.getStructuringElement(cv.MORPH_CROSS, (3, 3)), borderType=cv.BORDER_REFLECT)\n",
    "\n",
    "delta = depth - erosion\n",
    "minima = np.logical_and(delta == 0, depth != 9)\n",
    "\n",
    "answer_a = np.sum(depth[np.where(minima)] + 1)"
   ]
  },
  {
   "cell_type": "code",
   "execution_count": null,
   "metadata": {},
   "outputs": [],
   "source": [
    "puzzle.answer_a = answer_a"
   ]
  },
  {
   "cell_type": "markdown",
   "metadata": {},
   "source": [
    "### Quick and dirty"
   ]
  },
  {
   "cell_type": "code",
   "execution_count": null,
   "metadata": {},
   "outputs": [],
   "source": [
    "import numpy as np\n",
    "\n",
    "from collections import defaultdict, Counter\n",
    "\n",
    "depth = defaultdict(lambda : defaultdict(lambda : 10))\n",
    "\n",
    "for y, line in enumerate(puzzle.input_data.split('\\n')):\n",
    "    for x, char in enumerate(line):\n",
    "        depth[x][y] = int(char)"
   ]
  },
  {
   "cell_type": "code",
   "execution_count": null,
   "metadata": {},
   "outputs": [],
   "source": [
    "W, H = len(depth), len(depth[0])\n",
    "minima = []\n",
    "for x in range(W):\n",
    "    for y in range(H):\n",
    "        val = depth[x][y]\n",
    "        if val < depth[x-1][y] and val < depth[x][y-1] and val < depth[x+1][y] and val < depth[x][y+1]:\n",
    "            minima.append((x, y))\n",
    "\n",
    "answer_a = sum(depth[p[0]][p[1]]+1 for p in minima)"
   ]
  },
  {
   "cell_type": "markdown",
   "metadata": {},
   "source": [
    "### Part 2"
   ]
  },
  {
   "cell_type": "code",
   "execution_count": null,
   "metadata": {},
   "outputs": [],
   "source": [
    "from collections import deque\n",
    "\n",
    "class Bassin:\n",
    "    \n",
    "    def __init__(self, minimum):\n",
    "        self.points = {minimum}\n",
    "    \n",
    "    def expand(self):\n",
    "        \n",
    "        queue = deque(list(self.points))\n",
    "        \n",
    "        while queue:\n",
    "            x, y = queue.popleft()\n",
    "            \n",
    "            for dx, dy in [(-1, 0), (1, 0), (0, -1), (0, 1)]:\n",
    "                pos = (x+dx, y+dy)\n",
    "                if pos in self.points:\n",
    "                    continue\n",
    "                if depth[pos[0]][pos[1]] < 9 and depth[pos[0]][pos[1]] >= depth[x][y]:\n",
    "                    queue.append(pos)\n",
    "                    self.points.add(pos)\n",
    "    def size(self):\n",
    "        return len(self.points)"
   ]
  },
  {
   "cell_type": "code",
   "execution_count": null,
   "metadata": {},
   "outputs": [],
   "source": [
    "bassins = [Bassin(minimum) for minimum in minima]\n",
    "for bassin in bassins:\n",
    "    bassin.expand()\n"
   ]
  },
  {
   "cell_type": "code",
   "execution_count": null,
   "metadata": {},
   "outputs": [],
   "source": [
    "import math\n",
    "\n",
    "answer_b = math.prod(sorted([bassin.size() for bassin in bassins], reverse=True)[:3])"
   ]
  },
  {
   "cell_type": "code",
   "execution_count": null,
   "metadata": {},
   "outputs": [],
   "source": [
    "puzzle.answer_b = answer_b"
   ]
  },
  {
   "cell_type": "markdown",
   "metadata": {},
   "source": [
    "## Day 8\n",
    "https://adventofcode.com/2021/day/8\n",
    "### Part 1"
   ]
  },
  {
   "cell_type": "code",
   "execution_count": null,
   "metadata": {},
   "outputs": [],
   "source": [
    "puzzle = Puzzle(2021, 8)"
   ]
  },
  {
   "cell_type": "code",
   "execution_count": null,
   "metadata": {},
   "outputs": [],
   "source": [
    "lines = [line.split('|') for line in puzzle.input_data.split('\\n')]\n",
    "lines = [(s1.split(), s2.split()) for s1, s2 in lines]"
   ]
  },
  {
   "cell_type": "code",
   "execution_count": null,
   "metadata": {},
   "outputs": [],
   "source": [
    "from collections import Counter\n",
    "\n",
    "count = Counter()\n",
    "\n",
    "for _, output in lines:\n",
    "    for digit in output:\n",
    "        count[len(digit)] += 1\n",
    "        \n",
    "answer_a = count[2] + count[3] + count[4] + count[7]"
   ]
  },
  {
   "cell_type": "code",
   "execution_count": null,
   "metadata": {},
   "outputs": [],
   "source": [
    "puzzle.answer_a = answer_a"
   ]
  },
  {
   "cell_type": "markdown",
   "metadata": {},
   "source": [
    "### Part2"
   ]
  },
  {
   "cell_type": "code",
   "execution_count": null,
   "metadata": {},
   "outputs": [],
   "source": [
    "# I dont have time for this shit solution\n",
    "\n",
    "def outsmart_problem(patterns):\n",
    "    \n",
    "    voc = {}\n",
    "    pos = {}\n",
    "    \n",
    "    voc[1] = [el for el in patterns if len(el) == 2][0]\n",
    "    voc[7] = [el for el in patterns if len(el) == 3][0]\n",
    "    voc[4] = [el for el in patterns if len(el) == 4][0]\n",
    "    voc[8] = [el for el in patterns if len(el) == 7][0]\n",
    "    pos[0] = set(voc[7]) - set(voc[1])\n",
    "    voc[9] = [el for el in patterns if len(el) == 6 and len(set(el) - set(voc[4])) == 2][0]\n",
    "    pos[6] = set(voc[9]) - set(voc[4]) - pos[0]\n",
    "    voc[0] = [el for el in patterns if len(el) == 6 if el != voc[9] and set(voc[7]) <= set(el)][0]\n",
    "    voc[6] = [el for el in patterns if len(el) == 6 if el != voc[9] and el != voc[0]][0]\n",
    "    pos[3] = set(voc[6]) - set(voc[0])\n",
    "    pos[2] = set(voc[0]) - set(voc[6])\n",
    "    voc[5] = [el for el in patterns if len(el) == 5 and not (pos[2] <= set(el))][0]\n",
    "    pos[5] = set(voc[1]) - pos[2]\n",
    "    voc[3] = [el for el in patterns if len(el) == 5 and el != voc[5] and pos[5] <= set(el)][0]\n",
    "    voc[2] = [el for el in patterns if len(el) == 5 and el != voc[5] and not(pos[5] <= set(el))][0]\n",
    "    \n",
    "    code_map = {frozenset(v): k for k, v in voc.items()}\n",
    "    \n",
    "    return code_map\n",
    "\n",
    "def decode_line(line):\n",
    "    patterns, display = line\n",
    "    \n",
    "    code_map = outsmart_problem(patterns)\n",
    "    \n",
    "    nb = 0\n",
    "    for signal in display:\n",
    "        nb = nb*10 + code_map[frozenset(signal)]\n",
    "        \n",
    "    return nb"
   ]
  },
  {
   "cell_type": "code",
   "execution_count": null,
   "metadata": {},
   "outputs": [],
   "source": [
    "puzzle.answer_b = answer_b"
   ]
  },
  {
   "cell_type": "markdown",
   "metadata": {},
   "source": [
    "## Day 7\n",
    "https://adventofcode.com/2021/day/7\n",
    "### Part 1"
   ]
  },
  {
   "cell_type": "code",
   "execution_count": null,
   "metadata": {},
   "outputs": [],
   "source": [
    "puzzle = Puzzle(2021, 7)"
   ]
  },
  {
   "cell_type": "code",
   "execution_count": null,
   "metadata": {},
   "outputs": [],
   "source": [
    "pos = [int(p) for p in puzzle.input_data.split(',')]"
   ]
  },
  {
   "cell_type": "code",
   "execution_count": null,
   "metadata": {},
   "outputs": [],
   "source": [
    "import numpy as np\n",
    "\n",
    "mu = round(np.mean(pos))\n",
    "answer_a = min([sum([abs(mu + delta - p) for p in pos]) for delta in range(-1000, 1000)])"
   ]
  },
  {
   "cell_type": "code",
   "execution_count": null,
   "metadata": {},
   "outputs": [],
   "source": [
    "puzzle.answer_a = answer_a"
   ]
  },
  {
   "cell_type": "markdown",
   "metadata": {},
   "source": [
    "### Part 2"
   ]
  },
  {
   "cell_type": "code",
   "execution_count": null,
   "metadata": {},
   "outputs": [],
   "source": [
    "def cost(start, end):\n",
    "    dist = abs(start - end)\n",
    "    return (dist * (dist + 1)) / 2\n",
    "    \n",
    "answer_b = round(min([sum([cost(mu + delta, p) for p in pos]) for delta in range(-1000, 1000)]))"
   ]
  },
  {
   "cell_type": "code",
   "execution_count": null,
   "metadata": {},
   "outputs": [],
   "source": [
    "puzzle.answer_b = answer_b"
   ]
  },
  {
   "cell_type": "markdown",
   "metadata": {},
   "source": [
    "## Day 6\n",
    "https://adventofcode.com/2021/day/6\n",
    "### Part 1"
   ]
  },
  {
   "cell_type": "code",
   "execution_count": null,
   "metadata": {},
   "outputs": [],
   "source": [
    "puzzle = Puzzle(2021, 6)"
   ]
  },
  {
   "cell_type": "code",
   "execution_count": null,
   "metadata": {},
   "outputs": [],
   "source": [
    "numbers = puzzle.input_data.split(',')"
   ]
  },
  {
   "cell_type": "code",
   "execution_count": null,
   "metadata": {},
   "outputs": [],
   "source": [
    "from collections import Counter\n",
    "\n",
    "def initialize(numbers):\n",
    "    count = Counter()\n",
    "\n",
    "    for nb in numbers:\n",
    "        count[int(nb)] += 1\n",
    "        \n",
    "    return count"
   ]
  },
  {
   "cell_type": "code",
   "execution_count": null,
   "metadata": {},
   "outputs": [],
   "source": [
    "max_age = 9\n",
    "\n",
    "def simulate(count, nb_days):\n",
    "    for day in range(nb_days):\n",
    "        new_count = Counter()\n",
    "        for age in range(max_age):\n",
    "            new_count[(age-1)%max_age] = count[age]\n",
    "        new_count[6] += count[0]\n",
    "        count = new_count\n",
    "    return count"
   ]
  },
  {
   "cell_type": "code",
   "execution_count": null,
   "metadata": {},
   "outputs": [],
   "source": [
    "answer_a = sum(simulate(initialize(numbers), 80).values())"
   ]
  },
  {
   "cell_type": "code",
   "execution_count": null,
   "metadata": {},
   "outputs": [],
   "source": [
    "puzzle.answer_a = answer_a"
   ]
  },
  {
   "cell_type": "markdown",
   "metadata": {},
   "source": [
    "### Part 2"
   ]
  },
  {
   "cell_type": "code",
   "execution_count": null,
   "metadata": {},
   "outputs": [],
   "source": [
    "answer_b = sum(simulate(initialize(numbers), 256).values())"
   ]
  },
  {
   "cell_type": "code",
   "execution_count": null,
   "metadata": {},
   "outputs": [],
   "source": [
    "puzzle.answer_b = answer_b"
   ]
  },
  {
   "cell_type": "markdown",
   "metadata": {},
   "source": [
    "## Day 5\n",
    "https://adventofcode.com/2021/day/5\n",
    "### Part 1"
   ]
  },
  {
   "cell_type": "code",
   "execution_count": null,
   "metadata": {},
   "outputs": [],
   "source": [
    "puzzle = Puzzle(2021, 5)"
   ]
  },
  {
   "cell_type": "code",
   "execution_count": null,
   "metadata": {},
   "outputs": [],
   "source": [
    "class Line:\n",
    "    \n",
    "    def __init__(self, p0, p1):\n",
    "        self.x0 = int(p0[0])\n",
    "        self.y0 = int(p0[1])\n",
    "        self.x1 = int(p1[0])\n",
    "        self.y1 = int(p1[1])\n",
    "        \n",
    "        # not pleased with linf but l2 gives overlapping points due to discretization\n",
    "        self.len = max(abs(self.x1 - self.x0), abs(self.y1 - self.y0))\n",
    "\n",
    "        self.dx = (self.x1 - self.x0) / self.len\n",
    "        self.dy = (self.y1 - self.y0) / self.len\n",
    "        \n",
    "    def is_horizontal(self):\n",
    "        return self.y0 == self.y1\n",
    "    \n",
    "    def is_vertical(self):\n",
    "        return self.x0 == self.x1\n",
    "    \n",
    "    def __iter__(self):\n",
    "        self.__iter_ptr = 0\n",
    "        return self\n",
    "        \n",
    "    def __next__(self):\n",
    "        if self.__iter_ptr <= self.len:\n",
    "            vx = (self.__iter_ptr * self.dx) + self.x0\n",
    "            vy = (self.__iter_ptr * self.dy) + self.y0\n",
    "            self.__iter_ptr += 1\n",
    "            return (round(vx), round(vy))\n",
    "        else:\n",
    "            raise StopIteration\n",
    "            \n",
    "from collections import defaultdict, Counter\n",
    "\n",
    "def create_map(lines):\n",
    "\n",
    "    vents = defaultdict(Counter)\n",
    "\n",
    "    for line in lines:\n",
    "        for pt in line:\n",
    "            vents[pt[0]][pt[1]] += 1\n",
    "    \n",
    "    return vents\n",
    "\n",
    "def create_line(line):\n",
    "    p1, p2 = line.split(' -> ')\n",
    "    return Line(p1.split(','), p2.split(','))\n",
    "\n",
    "raw_lines = puzzle.input_data.split('\\n')\n",
    "lines = list(map(create_line, raw_lines))"
   ]
  },
  {
   "cell_type": "code",
   "execution_count": null,
   "metadata": {},
   "outputs": [],
   "source": [
    "non_diag = list(filter(lambda l : l.is_horizontal() or l.is_vertical(), lines))\n",
    "vents = create_map(non_diag)\n",
    "answer_a = len([val for col in vents.values() for val in col.values() if val > 1])"
   ]
  },
  {
   "cell_type": "code",
   "execution_count": null,
   "metadata": {},
   "outputs": [],
   "source": [
    "puzzle.answer_a = answer_a"
   ]
  },
  {
   "cell_type": "markdown",
   "metadata": {},
   "source": [
    "### Part 2"
   ]
  },
  {
   "cell_type": "code",
   "execution_count": null,
   "metadata": {},
   "outputs": [],
   "source": [
    "vents = create_map(lines)\n",
    "answer_b = len([val for col in vents.values() for val in col.values() if val > 1])"
   ]
  },
  {
   "cell_type": "code",
   "execution_count": null,
   "metadata": {},
   "outputs": [],
   "source": [
    "puzzle.answer_b = answer_b"
   ]
  },
  {
   "cell_type": "markdown",
   "metadata": {},
   "source": [
    "### For fun"
   ]
  },
  {
   "cell_type": "code",
   "execution_count": null,
   "metadata": {},
   "outputs": [],
   "source": [
    "# For fun\n",
    "!pip install seaborn"
   ]
  },
  {
   "cell_type": "code",
   "execution_count": null,
   "metadata": {},
   "outputs": [],
   "source": [
    "import seaborn as sns\n",
    "import numpy as np\n",
    "\n",
    "from matplotlib import pyplot as plt\n",
    "\n",
    "plt.rcParams[\"figure.figsize\"] = (15,15)\n",
    "\n",
    "def visualize(vents):\n",
    "    width = max(vents.keys()) + 10\n",
    "    height = max(max(col) for col in vents.values()) + 10\n",
    "\n",
    "    data = np.array([[vents[x][y] for y in range(height)] for x in range(width)])\n",
    "    \n",
    "    sns.heatmap(data)"
   ]
  },
  {
   "cell_type": "code",
   "execution_count": null,
   "metadata": {},
   "outputs": [],
   "source": [
    "visualize(create_map(non_diag))"
   ]
  },
  {
   "cell_type": "code",
   "execution_count": null,
   "metadata": {},
   "outputs": [],
   "source": [
    "visualize(create_map(lines))"
   ]
  },
  {
   "cell_type": "markdown",
   "metadata": {},
   "source": [
    "## Day 4\n",
    "https://adventofcode.com/2021/day/4\n",
    "### Part 1"
   ]
  },
  {
   "cell_type": "code",
   "execution_count": null,
   "metadata": {},
   "outputs": [],
   "source": [
    "!pip install numpy"
   ]
  },
  {
   "cell_type": "code",
   "execution_count": null,
   "metadata": {},
   "outputs": [],
   "source": [
    "puzzle = Puzzle(2021, 4)"
   ]
  },
  {
   "cell_type": "code",
   "execution_count": null,
   "metadata": {},
   "outputs": [],
   "source": [
    "data = puzzle.input_data.split('\\n\\n')\n",
    "numbers, boards = data[0], data[1:]\n",
    "numbers = [int(nb) for nb in numbers.split(',')]\n",
    "boards = list(map(lambda b: [int(loc.strip()) for loc in b.split()], boards))"
   ]
  },
  {
   "cell_type": "code",
   "execution_count": null,
   "metadata": {},
   "outputs": [],
   "source": [
    "import numpy as np\n",
    "\n",
    "class Board:\n",
    "    def __init__(self, brd):\n",
    "        rows = np.array(brd).reshape(5, -1)\n",
    "        cols = rows.T\n",
    "\n",
    "        self.rows = [set(row) for row in rows]\n",
    "        self.cols = [set(col) for col in cols]\n",
    "        \n",
    "    def play(self, number):\n",
    "        self.rows = [set(row) - {number} for row in self.rows]\n",
    "        self.cols = [set(col) - {number} for col in self.cols]\n",
    "        \n",
    "    def has_won(self):\n",
    "        return any([not any(row) for row in self.rows]) or any([not any(col) for col in self.cols])\n",
    "    \n",
    "    def remaining_sum(self):\n",
    "        return sum(sum(row) for row in self.rows)"
   ]
  },
  {
   "cell_type": "code",
   "execution_count": null,
   "metadata": {},
   "outputs": [],
   "source": [
    "def play(board, numbers):\n",
    "    brd = Board(board)\n",
    "    for idx, nb in enumerate(numbers):\n",
    "        brd.play(nb)\n",
    "        if brd.has_won():\n",
    "            break\n",
    "    return idx, brd\n",
    "\n",
    "games = sorted([play(board, numbers) for board in boards], key=lambda t: t[0])"
   ]
  },
  {
   "cell_type": "code",
   "execution_count": null,
   "metadata": {},
   "outputs": [],
   "source": [
    "idx, board = games[0]\n",
    "answer_a = numbers[idx]*board.remaining_sum()"
   ]
  },
  {
   "cell_type": "code",
   "execution_count": null,
   "metadata": {},
   "outputs": [],
   "source": [
    "puzzle.answer_a = answer_a"
   ]
  },
  {
   "cell_type": "markdown",
   "metadata": {},
   "source": [
    "### Part 2"
   ]
  },
  {
   "cell_type": "code",
   "execution_count": null,
   "metadata": {},
   "outputs": [],
   "source": [
    "idx, board = games[-1]\n",
    "answer_b = numbers[idx]*board.remaining_sum()"
   ]
  },
  {
   "cell_type": "code",
   "execution_count": null,
   "metadata": {},
   "outputs": [],
   "source": [
    "puzzle.answer_b = answer_b"
   ]
  },
  {
   "cell_type": "markdown",
   "metadata": {},
   "source": [
    "## Day 3\n",
    "https://adventofcode.com/2021/day/3\n",
    "### Part 1"
   ]
  },
  {
   "cell_type": "code",
   "execution_count": null,
   "metadata": {},
   "outputs": [],
   "source": [
    "puzzle = Puzzle(2021, 3)\n",
    "\n",
    "commands = puzzle.input_data.split('\\n')"
   ]
  },
  {
   "cell_type": "code",
   "execution_count": null,
   "metadata": {},
   "outputs": [],
   "source": [
    "from collections import Counter\n",
    "\n",
    "acc = Counter()\n",
    "for cmd in commands:\n",
    "    acc += Counter({idx: int(val) for idx, val in enumerate(cmd)})"
   ]
  },
  {
   "cell_type": "code",
   "execution_count": null,
   "metadata": {},
   "outputs": [],
   "source": [
    "N, K = len(commands), len(commands[0])\n",
    "gamma = '0b'+''.join(str(int(acc[i] > N/2)) for i in range(K))\n",
    "gamma = int(gamma, 2)\n",
    "epsilon = (~gamma & 0xFFF)\n",
    "answer_a = gamma*epsilon"
   ]
  },
  {
   "cell_type": "code",
   "execution_count": null,
   "metadata": {},
   "outputs": [],
   "source": [
    "puzzle.answer_a = answer_a"
   ]
  },
  {
   "cell_type": "markdown",
   "metadata": {},
   "source": [
    "### Part 2"
   ]
  },
  {
   "cell_type": "code",
   "execution_count": null,
   "metadata": {},
   "outputs": [],
   "source": [
    "def filter_cmds(commands, pos, lcb):\n",
    "    acc = sum(int(cmd[pos]) for cmd in commands)\n",
    "    mc = (acc >= len(commands) / 2)\n",
    "    if lcb:\n",
    "        mc = not mc\n",
    "    mc = int(mc)\n",
    "    return [cmd for cmd in commands if int(cmd[pos]) == mc]\n",
    "\n",
    "def apply(cmds, lcb=False):\n",
    "    for pos in range(K):\n",
    "        cmds = filter_cmds(cmds, pos, lcb)\n",
    "        if len(cmds) == 1:\n",
    "            break\n",
    "    return cmds\n",
    "\n",
    "oxy = int(apply(commands.copy(), lcb=False)[0], 2)\n",
    "co2 = int(apply(commands.copy(), lcb=True)[0], 2)\n",
    "\n",
    "answer_b = oxy*co2"
   ]
  },
  {
   "cell_type": "code",
   "execution_count": null,
   "metadata": {},
   "outputs": [],
   "source": [
    "puzzle.answer_b = answer_b"
   ]
  },
  {
   "cell_type": "markdown",
   "metadata": {},
   "source": [
    "## Day 2\n",
    "https://adventofcode.com/2021/day/2\n",
    "### Part 1"
   ]
  },
  {
   "cell_type": "code",
   "execution_count": null,
   "metadata": {},
   "outputs": [],
   "source": [
    "from collections import Counter\n",
    "\n",
    "puzzle = Puzzle(2021, 2)\n",
    "\n",
    "commands = puzzle.input_data.split('\\n')\n",
    "\n",
    "global_cmd = Counter()\n",
    "\n",
    "for cmd in commands:\n",
    "    word, amount = cmd.split()\n",
    "    global_cmd[word] += int(amount)\n",
    "    \n",
    "answer_a = global_cmd['forward']*(global_cmd['down'] - global_cmd['up'])"
   ]
  },
  {
   "cell_type": "code",
   "execution_count": null,
   "metadata": {},
   "outputs": [],
   "source": [
    "puzzle.answer_a = answer_a"
   ]
  },
  {
   "cell_type": "markdown",
   "metadata": {},
   "source": [
    "### Part 2"
   ]
  },
  {
   "cell_type": "code",
   "execution_count": null,
   "metadata": {},
   "outputs": [],
   "source": [
    "status = Counter()\n",
    "\n",
    "for cmd in commands:\n",
    "    word, amount = cmd.split()\n",
    "    amount = int(amount)\n",
    "    if word == \"forward\":\n",
    "        status['forward'] += amount\n",
    "        status['depth'] += amount*status['aim']\n",
    "    elif word == \"up\":\n",
    "        status['aim'] -= amount\n",
    "    else:\n",
    "        status['aim'] += amount\n",
    "        \n",
    "answer_b = status[\"forward\"]*status[\"depth\"]"
   ]
  },
  {
   "cell_type": "code",
   "execution_count": null,
   "metadata": {},
   "outputs": [],
   "source": [
    "puzzle.answer_b = answer_b"
   ]
  },
  {
   "cell_type": "markdown",
   "metadata": {},
   "source": [
    "## Day 1\n",
    "https://adventofcode.com/2021/day/1\n",
    "### Part 1"
   ]
  },
  {
   "cell_type": "code",
   "execution_count": null,
   "metadata": {},
   "outputs": [],
   "source": [
    "puzzle = Puzzle(2021, 1)\n",
    "\n",
    "depths = [int(depth) for depth in puzzle.input_data.split()]\n",
    "answer_a = len([d1 for d1, d2 in zip(depths[:-1], depths[1:]) if d2 > d1])"
   ]
  },
  {
   "cell_type": "code",
   "execution_count": null,
   "metadata": {},
   "outputs": [],
   "source": [
    "puzzle.answer_a = answer_a"
   ]
  },
  {
   "cell_type": "markdown",
   "metadata": {},
   "source": [
    "### Part 2"
   ]
  },
  {
   "cell_type": "code",
   "execution_count": null,
   "metadata": {},
   "outputs": [],
   "source": [
    "moving_average = [d1+d2+d3 for d1, d2, d3 in zip(depths[:-2], depths[1:-1], depths[2:])]\n",
    "answer_b = len([d1 for d1, d2 in zip(moving_average[:-1], moving_average[1:]) if d2 > d1])"
   ]
  },
  {
   "cell_type": "code",
   "execution_count": null,
   "metadata": {},
   "outputs": [],
   "source": [
    "puzzle.answer_b = answer_b"
   ]
  }
 ],
 "metadata": {
  "kernelspec": {
   "display_name": "Python 3 (ipykernel)",
   "language": "python",
   "name": "python3"
  },
  "language_info": {
   "codemirror_mode": {
    "name": "ipython",
    "version": 3
   },
   "file_extension": ".py",
   "mimetype": "text/x-python",
   "name": "python",
   "nbconvert_exporter": "python",
   "pygments_lexer": "ipython3",
   "version": "3.9.7"
  }
 },
 "nbformat": 4,
 "nbformat_minor": 2
}
