{
 "cells": [
  {
   "cell_type": "markdown",
   "metadata": {},
   "source": [
    "# AOC 2021\n",
    "\n",
    "Welcome to the Advent of Code 2021 !"
   ]
  },
  {
   "cell_type": "markdown",
   "metadata": {},
   "source": [
    "## Basic configuration\n",
    "\n"
   ]
  },
  {
   "cell_type": "code",
   "execution_count": null,
   "metadata": {},
   "outputs": [],
   "source": [
    "!pip install aocd"
   ]
  },
  {
   "cell_type": "code",
   "execution_count": null,
   "metadata": {},
   "outputs": [],
   "source": [
    "import os\n",
    "\n",
    "os.environ['AOC_SESSION'] = open('session.txt').read().strip()"
   ]
  },
  {
   "cell_type": "code",
   "execution_count": null,
   "metadata": {},
   "outputs": [],
   "source": [
    "from aocd import submit\n",
    "from aocd.models import Puzzle"
   ]
  },
  {
   "cell_type": "markdown",
   "metadata": {},
   "source": [
    "## Day 24\n",
    "https://adventofcode.com/2021/day/24\n",
    "### Part 1"
   ]
  },
  {
   "cell_type": "markdown",
   "metadata": {},
   "source": [
    "### Part 2"
   ]
  },
  {
   "cell_type": "markdown",
   "metadata": {},
   "source": [
    "## Day 23\n",
    "https://adventofcode.com/2021/day/23\n",
    "### Part 1"
   ]
  },
  {
   "cell_type": "markdown",
   "metadata": {},
   "source": [
    "### Part 2"
   ]
  },
  {
   "cell_type": "markdown",
   "metadata": {},
   "source": [
    "## Day 22\n",
    "https://adventofcode.com/2021/day/22\n",
    "### Part 1"
   ]
  },
  {
   "cell_type": "markdown",
   "metadata": {},
   "source": [
    "### Part 2"
   ]
  },
  {
   "cell_type": "markdown",
   "metadata": {},
   "source": [
    "## Day 21\n",
    "https://adventofcode.com/2021/day/21\n",
    "### Part 1"
   ]
  },
  {
   "cell_type": "markdown",
   "metadata": {},
   "source": [
    "### Part 2"
   ]
  },
  {
   "cell_type": "markdown",
   "metadata": {},
   "source": [
    "## Day 20\n",
    "https://adventofcode.com/2021/day/20\n",
    "### Part 1"
   ]
  },
  {
   "cell_type": "markdown",
   "metadata": {},
   "source": [
    "### Part 2"
   ]
  },
  {
   "cell_type": "markdown",
   "metadata": {},
   "source": [
    "## Day 19\n",
    "https://adventofcode.com/2021/day/19\n",
    "### Part 1"
   ]
  },
  {
   "cell_type": "markdown",
   "metadata": {},
   "source": [
    "### Part 2"
   ]
  },
  {
   "cell_type": "markdown",
   "metadata": {},
   "source": [
    "## Day 18\n",
    "https://adventofcode.com/2021/day/18\n",
    "### Part 1"
   ]
  },
  {
   "cell_type": "markdown",
   "metadata": {},
   "source": [
    "### Part 2"
   ]
  },
  {
   "cell_type": "markdown",
   "metadata": {},
   "source": [
    "## Day 17\n",
    "https://adventofcode.com/2021/day/17\n",
    "### Part 1"
   ]
  },
  {
   "cell_type": "markdown",
   "metadata": {},
   "source": [
    "### Part 2"
   ]
  },
  {
   "cell_type": "markdown",
   "metadata": {},
   "source": [
    "## Day 16\n",
    "https://adventofcode.com/2021/day/16\n",
    "### Part 1"
   ]
  },
  {
   "cell_type": "markdown",
   "metadata": {},
   "source": [
    "### Part 2"
   ]
  },
  {
   "cell_type": "markdown",
   "metadata": {},
   "source": [
    "## Day 15\n",
    "https://adventofcode.com/2021/day/15"
   ]
  },
  {
   "cell_type": "markdown",
   "metadata": {},
   "source": [
    "### Part 1"
   ]
  },
  {
   "cell_type": "markdown",
   "metadata": {},
   "source": [
    "### Part 2"
   ]
  },
  {
   "cell_type": "markdown",
   "metadata": {},
   "source": [
    "## Day 14\n",
    "https://adventofcode.com/2021/day/14\n",
    "### Part 1"
   ]
  },
  {
   "cell_type": "markdown",
   "metadata": {},
   "source": [
    "### Part 2"
   ]
  },
  {
   "cell_type": "markdown",
   "metadata": {},
   "source": [
    "## Day 13\n",
    "https://adventofcode.com/2021/day/13\n",
    "### Part 1"
   ]
  },
  {
   "cell_type": "markdown",
   "metadata": {},
   "source": [
    "### Part 2"
   ]
  },
  {
   "cell_type": "markdown",
   "metadata": {},
   "source": [
    "## Day 12\n",
    "https://adventofcode.com/2021/day/12\n",
    "### Part 1"
   ]
  },
  {
   "cell_type": "markdown",
   "metadata": {},
   "source": [
    "### Part2"
   ]
  },
  {
   "cell_type": "markdown",
   "metadata": {},
   "source": [
    "## Day 11\n",
    "https://adventofcode.com/2021/day/11\n",
    "### Part 1"
   ]
  },
  {
   "cell_type": "markdown",
   "metadata": {},
   "source": [
    "### Part 2"
   ]
  },
  {
   "cell_type": "markdown",
   "metadata": {},
   "source": [
    "## Day 10\n",
    "https://adventofcode.com/2021/day/10\n",
    "### Part 1"
   ]
  },
  {
   "cell_type": "markdown",
   "metadata": {},
   "source": [
    "### Part 2"
   ]
  },
  {
   "cell_type": "markdown",
   "metadata": {},
   "source": [
    "## Day 9\n",
    "https://adventofcode.com/2021/day/9\n",
    "### Part 1"
   ]
  },
  {
   "cell_type": "markdown",
   "metadata": {},
   "source": [
    "### Part 2"
   ]
  },
  {
   "cell_type": "markdown",
   "metadata": {},
   "source": [
    "## Day 8\n",
    "https://adventofcode.com/2021/day/8\n",
    "### Part 1"
   ]
  },
  {
   "cell_type": "markdown",
   "metadata": {},
   "source": [
    "### Part2"
   ]
  },
  {
   "cell_type": "markdown",
   "metadata": {},
   "source": [
    "## Day 7\n",
    "https://adventofcode.com/2021/day/7\n",
    "### Part 1"
   ]
  },
  {
   "cell_type": "markdown",
   "metadata": {},
   "source": [
    "### Part 2"
   ]
  },
  {
   "cell_type": "markdown",
   "metadata": {},
   "source": [
    "## Day 6\n",
    "https://adventofcode.com/2021/day/6\n",
    "### Part 1"
   ]
  },
  {
   "cell_type": "markdown",
   "metadata": {},
   "source": [
    "### Part 2"
   ]
  },
  {
   "cell_type": "markdown",
   "metadata": {},
   "source": [
    "## Day 5\n",
    "https://adventofcode.com/2021/day/5\n",
    "### Part 1"
   ]
  },
  {
   "cell_type": "code",
   "execution_count": null,
   "metadata": {},
   "outputs": [],
   "source": [
    "puzzle = Puzzle(2021, 5)"
   ]
  },
  {
   "cell_type": "code",
   "execution_count": null,
   "metadata": {},
   "outputs": [],
   "source": [
    "class Line:\n",
    "    \n",
    "    def __init__(self, p0, p1):\n",
    "        self.x0 = int(p0[0])\n",
    "        self.y0 = int(p0[1])\n",
    "        self.x1 = int(p1[0])\n",
    "        self.y1 = int(p1[1])\n",
    "        \n",
    "        # not pleased with linf but l2 gives overlapping points due to discretization\n",
    "        self.len = max(abs(self.x1 - self.x0), abs(self.y1 - self.y0))\n",
    "\n",
    "        self.dx = (self.x1 - self.x0) / self.len\n",
    "        self.dy = (self.y1 - self.y0) / self.len\n",
    "        \n",
    "    def is_horizontal(self):\n",
    "        return self.y0 == self.y1\n",
    "    \n",
    "    def is_vertical(self):\n",
    "        return self.x0 == self.x1\n",
    "    \n",
    "    def __iter__(self):\n",
    "        self.__iter_ptr = 0\n",
    "        return self\n",
    "        \n",
    "    def __next__(self):\n",
    "        if self.__iter_ptr <= self.len:\n",
    "            vx = (self.__iter_ptr * self.dx) + self.x0\n",
    "            vy = (self.__iter_ptr * self.dy) + self.y0\n",
    "            self.__iter_ptr += 1\n",
    "            return (round(vx), round(vy))\n",
    "        else:\n",
    "            raise StopIteration\n",
    "            \n",
    "from collections import defaultdict, Counter\n",
    "\n",
    "def create_map(lines):\n",
    "\n",
    "    vents = defaultdict(Counter)\n",
    "\n",
    "    for line in lines:\n",
    "        for pt in line:\n",
    "            vents[pt[0]][pt[1]] += 1\n",
    "    \n",
    "    return vents\n",
    "\n",
    "def create_line(line):\n",
    "    p1, p2 = line.split(' -> ')\n",
    "    return Line(p1.split(','), p2.split(','))\n",
    "\n",
    "raw_lines = puzzle.input_data.split('\\n')\n",
    "lines = list(map(create_line, raw_lines))"
   ]
  },
  {
   "cell_type": "code",
   "execution_count": null,
   "metadata": {},
   "outputs": [],
   "source": [
    "non_diag = list(filter(lambda l : l.is_horizontal() or l.is_vertical(), lines))\n",
    "vents = create_map(non_diag)\n",
    "answer_a = len([val for col in vents.values() for val in col.values() if val > 1])"
   ]
  },
  {
   "cell_type": "code",
   "execution_count": null,
   "metadata": {},
   "outputs": [],
   "source": [
    "puzzle.answer_a = answer_a"
   ]
  },
  {
   "cell_type": "markdown",
   "metadata": {},
   "source": [
    "### Part 2"
   ]
  },
  {
   "cell_type": "code",
   "execution_count": null,
   "metadata": {},
   "outputs": [],
   "source": [
    "vents = create_map(lines)\n",
    "answer_b = len([val for col in vents.values() for val in col.values() if val > 1])"
   ]
  },
  {
   "cell_type": "code",
   "execution_count": null,
   "metadata": {},
   "outputs": [],
   "source": [
    "puzzle.answer_b = answer_b"
   ]
  },
  {
   "cell_type": "markdown",
   "metadata": {},
   "source": [
    "### For fun"
   ]
  },
  {
   "cell_type": "code",
   "execution_count": null,
   "metadata": {},
   "outputs": [],
   "source": [
    "# For fun\n",
    "!pip install seaborn"
   ]
  },
  {
   "cell_type": "code",
   "execution_count": null,
   "metadata": {},
   "outputs": [],
   "source": [
    "import seaborn as sns\n",
    "import numpy as np\n",
    "\n",
    "from matplotlib import pyplot as plt\n",
    "\n",
    "plt.rcParams[\"figure.figsize\"] = (15,15)\n",
    "\n",
    "def visualize(vents):\n",
    "    width = max(vents.keys()) + 10\n",
    "    height = max(max(col) for col in vents.values()) + 10\n",
    "\n",
    "    data = np.array([[vents[x][y] for y in range(height)] for x in range(width)])\n",
    "    \n",
    "    sns.heatmap(data)"
   ]
  },
  {
   "cell_type": "code",
   "execution_count": null,
   "metadata": {},
   "outputs": [],
   "source": [
    "visualize(create_map(non_diag))"
   ]
  },
  {
   "cell_type": "code",
   "execution_count": null,
   "metadata": {},
   "outputs": [],
   "source": [
    "visualize(create_map(lines))"
   ]
  },
  {
   "cell_type": "markdown",
   "metadata": {},
   "source": [
    "## Day 4\n",
    "https://adventofcode.com/2021/day/4\n",
    "### Part 1"
   ]
  },
  {
   "cell_type": "code",
   "execution_count": null,
   "metadata": {},
   "outputs": [],
   "source": [
    "!pip install numpy"
   ]
  },
  {
   "cell_type": "code",
   "execution_count": null,
   "metadata": {},
   "outputs": [],
   "source": [
    "puzzle = Puzzle(2021, 4)"
   ]
  },
  {
   "cell_type": "code",
   "execution_count": null,
   "metadata": {},
   "outputs": [],
   "source": [
    "data = puzzle.input_data.split('\\n\\n')\n",
    "numbers, boards = data[0], data[1:]\n",
    "numbers = [int(nb) for nb in numbers.split(',')]\n",
    "boards = list(map(lambda b: [int(loc.strip()) for loc in b.split()], boards))"
   ]
  },
  {
   "cell_type": "code",
   "execution_count": null,
   "metadata": {},
   "outputs": [],
   "source": [
    "import numpy as np\n",
    "\n",
    "class Board:\n",
    "    def __init__(self, brd):\n",
    "        rows = np.array(brd).reshape(5, -1)\n",
    "        cols = rows.T\n",
    "\n",
    "        self.rows = [set(row) for row in rows]\n",
    "        self.cols = [set(col) for col in cols]\n",
    "        \n",
    "    def play(self, number):\n",
    "        self.rows = [set(row) - {number} for row in self.rows]\n",
    "        self.cols = [set(col) - {number} for col in self.cols]\n",
    "        \n",
    "    def has_won(self):\n",
    "        return any([not any(row) for row in self.rows]) or any([not any(col) for col in self.cols])\n",
    "    \n",
    "    def remaining_sum(self):\n",
    "        return sum(sum(row) for row in self.rows)"
   ]
  },
  {
   "cell_type": "code",
   "execution_count": null,
   "metadata": {},
   "outputs": [],
   "source": [
    "def play(board, numbers):\n",
    "    brd = Board(board)\n",
    "    for idx, nb in enumerate(numbers):\n",
    "        brd.play(nb)\n",
    "        if brd.has_won():\n",
    "            break\n",
    "    return idx, brd\n",
    "\n",
    "games = sorted([play(board, numbers) for board in boards], key=lambda t: t[0])"
   ]
  },
  {
   "cell_type": "code",
   "execution_count": null,
   "metadata": {},
   "outputs": [],
   "source": [
    "idx, board = games[0]\n",
    "answer_a = numbers[idx]*board.remaining_sum()"
   ]
  },
  {
   "cell_type": "code",
   "execution_count": null,
   "metadata": {},
   "outputs": [],
   "source": [
    "puzzle.answer_a = answer_a"
   ]
  },
  {
   "cell_type": "markdown",
   "metadata": {},
   "source": [
    "### Part 2"
   ]
  },
  {
   "cell_type": "code",
   "execution_count": null,
   "metadata": {},
   "outputs": [],
   "source": [
    "idx, board = games[-1]\n",
    "answer_b = numbers[idx]*board.remaining_sum()"
   ]
  },
  {
   "cell_type": "code",
   "execution_count": null,
   "metadata": {},
   "outputs": [],
   "source": [
    "puzzle.answer_b = answer_b"
   ]
  },
  {
   "cell_type": "markdown",
   "metadata": {},
   "source": [
    "## Day 3\n",
    "https://adventofcode.com/2021/day/3\n",
    "### Part 1"
   ]
  },
  {
   "cell_type": "code",
   "execution_count": null,
   "metadata": {},
   "outputs": [],
   "source": [
    "puzzle = Puzzle(2021, 3)\n",
    "\n",
    "commands = puzzle.input_data.split('\\n')"
   ]
  },
  {
   "cell_type": "code",
   "execution_count": null,
   "metadata": {},
   "outputs": [],
   "source": [
    "from collections import Counter\n",
    "\n",
    "acc = Counter()\n",
    "for cmd in commands:\n",
    "    acc += Counter({idx: int(val) for idx, val in enumerate(cmd)})"
   ]
  },
  {
   "cell_type": "code",
   "execution_count": null,
   "metadata": {},
   "outputs": [],
   "source": [
    "N, K = len(commands), len(commands[0])\n",
    "gamma = '0b'+''.join(str(int(acc[i] > N/2)) for i in range(K))\n",
    "gamma = int(gamma, 2)\n",
    "epsilon = (~gamma & 0xFFF)\n",
    "answer_a = gamma*epsilon"
   ]
  },
  {
   "cell_type": "code",
   "execution_count": null,
   "metadata": {},
   "outputs": [],
   "source": [
    "puzzle.answer_a = answer_a"
   ]
  },
  {
   "cell_type": "markdown",
   "metadata": {},
   "source": [
    "### Part 2"
   ]
  },
  {
   "cell_type": "code",
   "execution_count": null,
   "metadata": {},
   "outputs": [],
   "source": [
    "def filter_cmds(commands, pos, lcb):\n",
    "    acc = sum(int(cmd[pos]) for cmd in commands)\n",
    "    mc = (acc >= len(commands) / 2)\n",
    "    if lcb:\n",
    "        mc = not mc\n",
    "    mc = int(mc)\n",
    "    return [cmd for cmd in commands if int(cmd[pos]) == mc]\n",
    "\n",
    "def apply(cmds, lcb=False):\n",
    "    for pos in range(K):\n",
    "        cmds = filter_cmds(cmds, pos, lcb)\n",
    "        if len(cmds) == 1:\n",
    "            break\n",
    "    return cmds\n",
    "\n",
    "oxy = int(apply(commands.copy(), lcb=False)[0], 2)\n",
    "co2 = int(apply(commands.copy(), lcb=True)[0], 2)\n",
    "\n",
    "answer_b = oxy*co2"
   ]
  },
  {
   "cell_type": "code",
   "execution_count": null,
   "metadata": {},
   "outputs": [],
   "source": [
    "puzzle.answer_b = answer_b"
   ]
  },
  {
   "cell_type": "markdown",
   "metadata": {},
   "source": [
    "## Day 2\n",
    "https://adventofcode.com/2021/day/2\n",
    "### Part 1"
   ]
  },
  {
   "cell_type": "code",
   "execution_count": null,
   "metadata": {},
   "outputs": [],
   "source": [
    "from collections import Counter\n",
    "\n",
    "puzzle = Puzzle(2021, 2)\n",
    "\n",
    "commands = puzzle.input_data.split('\\n')\n",
    "\n",
    "global_cmd = Counter()\n",
    "\n",
    "for cmd in commands:\n",
    "    word, amount = cmd.split()\n",
    "    global_cmd[word] += int(amount)\n",
    "    \n",
    "answer_a = global_cmd['forward']*(global_cmd['down'] - global_cmd['up'])"
   ]
  },
  {
   "cell_type": "code",
   "execution_count": null,
   "metadata": {},
   "outputs": [],
   "source": [
    "puzzle.answer_a = answer_a"
   ]
  },
  {
   "cell_type": "markdown",
   "metadata": {},
   "source": [
    "### Part 2"
   ]
  },
  {
   "cell_type": "code",
   "execution_count": null,
   "metadata": {},
   "outputs": [],
   "source": [
    "status = Counter()\n",
    "\n",
    "for cmd in commands:\n",
    "    word, amount = cmd.split()\n",
    "    amount = int(amount)\n",
    "    if word == \"forward\":\n",
    "        status['forward'] += amount\n",
    "        status['depth'] += amount*status['aim']\n",
    "    elif word == \"up\":\n",
    "        status['aim'] -= amount\n",
    "    else:\n",
    "        status['aim'] += amount\n",
    "        \n",
    "answer_b = status[\"forward\"]*status[\"depth\"]"
   ]
  },
  {
   "cell_type": "code",
   "execution_count": null,
   "metadata": {},
   "outputs": [],
   "source": [
    "puzzle.answer_b = answer_b"
   ]
  },
  {
   "cell_type": "markdown",
   "metadata": {},
   "source": [
    "## Day 1\n",
    "https://adventofcode.com/2021/day/1\n",
    "### Part 1"
   ]
  },
  {
   "cell_type": "code",
   "execution_count": null,
   "metadata": {},
   "outputs": [],
   "source": [
    "puzzle = Puzzle(2021, 1)\n",
    "\n",
    "depths = [int(depth) for depth in puzzle.input_data.split()]\n",
    "answer_a = len([d1 for d1, d2 in zip(depths[:-1], depths[1:]) if d2 > d1])"
   ]
  },
  {
   "cell_type": "code",
   "execution_count": null,
   "metadata": {},
   "outputs": [],
   "source": [
    "puzzle.answer_a = answer_a"
   ]
  },
  {
   "cell_type": "markdown",
   "metadata": {},
   "source": [
    "### Part 2"
   ]
  },
  {
   "cell_type": "code",
   "execution_count": null,
   "metadata": {},
   "outputs": [],
   "source": [
    "moving_average = [d1+d2+d3 for d1, d2, d3 in zip(depths[:-2], depths[1:-1], depths[2:])]\n",
    "answer_b = len([d1 for d1, d2 in zip(moving_average[:-1], moving_average[1:]) if d2 > d1])"
   ]
  },
  {
   "cell_type": "code",
   "execution_count": null,
   "metadata": {},
   "outputs": [],
   "source": [
    "puzzle.answer_b = answer_b"
   ]
  }
 ],
 "metadata": {
  "kernelspec": {
   "display_name": "Python 3",
   "language": "python",
   "name": "python3"
  },
  "language_info": {
   "codemirror_mode": {
    "name": "ipython",
    "version": 3
   },
   "file_extension": ".py",
   "mimetype": "text/x-python",
   "name": "python",
   "nbconvert_exporter": "python",
   "pygments_lexer": "ipython3",
   "version": "3.9.7"
  }
 },
 "nbformat": 4,
 "nbformat_minor": 2
}
